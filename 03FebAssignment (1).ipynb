{
 "cells": [
  {
   "cell_type": "code",
   "execution_count": 1,
   "id": "f833f8a8-d41c-4efb-953a-7311a5978522",
   "metadata": {},
   "outputs": [
    {
     "data": {
      "text/plain": [
       "[1, 3, 5, 7, 9, 11, 13, 15, 17, 19, 21, 23, 25]"
      ]
     },
     "execution_count": 1,
     "metadata": {},
     "output_type": "execute_result"
    }
   ],
   "source": [
    "\"\"\"Q1. Which keyword is used to create a function? Create a function to return a list of odd numbers in the\n",
    "       range of 1 to 25.\"\"\"\n",
    "\n",
    "      #---> The Keyword Used to create a function is \"def\".\n",
    "    \n",
    "def oddNumbers():\n",
    "    l=[]\n",
    "    for i in range(1,26,2):\n",
    "        l.append(i)\n",
    "    \n",
    "    return l\n",
    "\n",
    "oddNumbers()"
   ]
  },
  {
   "cell_type": "code",
   "execution_count": 2,
   "id": "4ecec10f-bf10-4bd4-9c12-ede71ce56cbc",
   "metadata": {},
   "outputs": [
    {
     "name": "stdout",
     "output_type": "stream",
     "text": [
      "1\n",
      "2\n",
      "3\n",
      "4\n",
      "5\n",
      "6\n",
      "7\n",
      "8\n",
      "9\n",
      "{'sunday': 1, 'monday': 2, 'tuesday': 3, 'wednesday': 4, 'thursday': 5, 'friday': 6, 'satusday': 7}\n"
     ]
    }
   ],
   "source": [
    "\"\"\"Q2. Why *args and **kwargs is used in some functions? Create a function each for *args and **kwargs\n",
    "       to demonstrate their use.\"\"\"\n",
    "      \n",
    "      #-->   *args  -:It allows us to pass a variable number of non-keyword arguments to a function.\n",
    "      #--> **kwargs -:It allows us to pass a variable number of keyword arguments to function.\n",
    "    \n",
    "# *args\n",
    "def arg(*args):\n",
    "    for i in args:\n",
    "        print(i)\n",
    "        \n",
    "# **kwargs\n",
    "def kwarg(**kwargs):\n",
    "    print(kwargs)\n",
    "\n",
    "arg(1,2,3,4,5,6,7,8,9)\n",
    "kwarg(sunday=1,monday=2,tuesday=3,wednesday=4,thursday=5,friday=6,satusday=7)"
   ]
  },
  {
   "cell_type": "code",
   "execution_count": 3,
   "id": "dd48315f-172b-4679-9984-661d07f0bec4",
   "metadata": {},
   "outputs": [
    {
     "name": "stdout",
     "output_type": "stream",
     "text": [
      "2\n",
      "4\n",
      "6\n",
      "8\n",
      "10\n"
     ]
    }
   ],
   "source": [
    "\"\"\"Q3. What is an iterator in python? Name the method used to initialise the iterator object and the method\n",
    "       used for iteration. Use these methods to print the first five elements of the given \n",
    "       list [2, 4, 6, 8, 10, 12, 14,\n",
    "       16, 18, 20].\"\"\"\n",
    "\n",
    "#Iterator in Python is an object that is used to iterate over iterable objects like lists, tuples, dicts, and sets.\n",
    "#The iterator object is initialized using the \"iter()\" method.\n",
    "#It uses the \"next()\" method for iteration.\n",
    "\n",
    "\n",
    "list=[2, 4, 6, 8, 10, 12, 14,16, 18, 20]\n",
    "\n",
    "#list--> iterable\n",
    "\n",
    "listiter=iter(list)\n",
    "\n",
    "#listiter--> iterator\n",
    "\n",
    "for i in range(5):\n",
    "    print(next(listiter))"
   ]
  },
  {
   "cell_type": "code",
   "execution_count": 6,
   "id": "e2b326aa-f32e-405e-aabd-f2bf96398205",
   "metadata": {},
   "outputs": [
    {
     "name": "stdout",
     "output_type": "stream",
     "text": [
      "1\n",
      "2\n",
      "3\n",
      "4\n",
      "5\n",
      "6\n",
      "7\n",
      "8\n",
      "9\n",
      "10\n"
     ]
    }
   ],
   "source": [
    "\"\"\"Q4. What is a generator function in python? Why yield keyword is used? Give an example of a generator\n",
    "       function.\"\"\"\n",
    "#Generator Function:-Generator functions are a special kind of function that return a iterator \n",
    "#                    which do not store there contents in memory.\n",
    "\n",
    "#Yield:- The yield keyword in Python controls the flow of a generator function. \n",
    "#        this is similar to a return statement used for returning values in Python.\n",
    "\n",
    "def generator(n):\n",
    "    count=1\n",
    "    while(count<=n):\n",
    "        yield count\n",
    "        count=count+1\n",
    "\n",
    "gen=generator(10)\n",
    "\n",
    "for i in gen:\n",
    "    print(i)"
   ]
  },
  {
   "cell_type": "code",
   "execution_count": 7,
   "id": "6c632681-1d80-46e4-8429-07ce206dbb11",
   "metadata": {},
   "outputs": [
    {
     "name": "stdout",
     "output_type": "stream",
     "text": [
      "2\n",
      "3\n",
      "5\n",
      "7\n",
      "11\n",
      "13\n",
      "17\n",
      "19\n",
      "23\n",
      "29\n",
      "31\n",
      "37\n",
      "41\n",
      "43\n",
      "47\n",
      "53\n",
      "59\n",
      "61\n",
      "67\n",
      "71\n"
     ]
    }
   ],
   "source": [
    "\"\"\"Q5. Create a generator function for prime numbers less than 1000. Use the next() method to print the\n",
    "       first 20 prime numbers.\"\"\"\n",
    "\n",
    "def primeGenerator():\n",
    "    for i in range(1,1001):\n",
    "        count=0\n",
    "        for j in range(1,i+1):\n",
    "            if(i%j==0):\n",
    "                count=count+1\n",
    "        if(count==2):\n",
    "            yield i\n",
    "\n",
    "Pg=primeGenerator()\n",
    "\n",
    "for i in range(20):\n",
    "    print(next(Pg))"
   ]
  },
  {
   "cell_type": "code",
   "execution_count": 9,
   "id": "750ffa49-e96c-40ff-9ff4-2172d83bf0c2",
   "metadata": {},
   "outputs": [
    {
     "name": "stdout",
     "output_type": "stream",
     "text": [
      "0\n",
      "1\n",
      "1\n",
      "2\n",
      "3\n",
      "5\n",
      "8\n",
      "13\n",
      "21\n",
      "34\n"
     ]
    }
   ],
   "source": [
    "\"\"\"Q6. Write a python program to print the first 10 Fibonacci numbers using a while loop.\"\"\"\n",
    "\n",
    "i=0\n",
    "n=10\n",
    "a=0\n",
    "b=1\n",
    "while(i<n):\n",
    "    print(a)\n",
    "    a,b=b,a+b\n",
    "    i=i+1"
   ]
  },
  {
   "cell_type": "code",
   "execution_count": 11,
   "id": "bef288b4-c974-4722-a2bb-5aead85763e3",
   "metadata": {},
   "outputs": [
    {
     "name": "stdout",
     "output_type": "stream",
     "text": [
      "['p', 'w', 's', 'k', 'i', 'l', 'l', 's']\n"
     ]
    }
   ],
   "source": [
    "\"\"\"Q7. Write a List Comprehension to iterate through the given string: ‘pwskills’.\n",
    "       Expected output: ['p', 'w', 's', 'k', 'i', 'l', 'l', 's']\"\"\"\n",
    "\n",
    "s=\"pwskills\"\n",
    "l=[i for i in s]\n",
    "print(l)"
   ]
  },
  {
   "cell_type": "code",
   "execution_count": 17,
   "id": "9f07f508-c08c-4d61-a6cb-944669a9388f",
   "metadata": {},
   "outputs": [
    {
     "name": "stdin",
     "output_type": "stream",
     "text": [
      " 123454321\n"
     ]
    },
    {
     "name": "stdout",
     "output_type": "stream",
     "text": [
      "Palindrome\n"
     ]
    }
   ],
   "source": [
    "\"\"\"Q8. Write a python program to check whether a given number is Palindrome or not using a while loop.\"\"\"\n",
    "\n",
    "n=int(input())\n",
    "m=n\n",
    "rev=0\n",
    "while(n!=0):\n",
    "    rem=n%10\n",
    "    rev=rev*10+rem\n",
    "    n=n//10\n",
    "\n",
    "if(rev==m):\n",
    "    print(\"Palindrome\")\n",
    "else:\n",
    "    print(\"not Palindrome\")"
   ]
  },
  {
   "cell_type": "code",
   "execution_count": 23,
   "id": "f25dc8c3-3a04-4b5b-b4e9-5f4d99bcfc9f",
   "metadata": {},
   "outputs": [
    {
     "name": "stdout",
     "output_type": "stream",
     "text": [
      "listOdd\n",
      "[1, 3, 5, 7, 9, 11, 13, 15, 17, 19, 21, 23, 25, 27, 29, 31, 33, 35, 37, 39, 41, 43, 45, 47, 49, 51, 53, 55, 57, 59, 61, 63, 65, 67, 69, 71, 73, 75, 77, 79, 81, 83, 85, 87, 89, 91, 93, 95, 97, 99]\n"
     ]
    }
   ],
   "source": [
    "\"\"\"Q9. Write a code to print odd numbers from 1 to 100 using list comprehension.\n",
    "       Note: Use a list comprehension to create a list from 1 to 100 and use another List comprehension to filter\n",
    "       out odd numbers.\"\"\"\n",
    "\n",
    "list1_100=[i for i in range(1,101)]\n",
    "\n",
    "listOdd=[i for i in list1_100[::2]]\n",
    "\n",
    "print(\"listOdd\")\n",
    "print(listOdd)"
   ]
  },
  {
   "cell_type": "code",
   "execution_count": null,
   "id": "144cae94-2f6a-4777-aac8-abe4e0b9c4a5",
   "metadata": {},
   "outputs": [],
   "source": []
  }
 ],
 "metadata": {
  "kernelspec": {
   "display_name": "Python 3 (ipykernel)",
   "language": "python",
   "name": "python3"
  },
  "language_info": {
   "codemirror_mode": {
    "name": "ipython",
    "version": 3
   },
   "file_extension": ".py",
   "mimetype": "text/x-python",
   "name": "python",
   "nbconvert_exporter": "python",
   "pygments_lexer": "ipython3",
   "version": "3.10.8"
  }
 },
 "nbformat": 4,
 "nbformat_minor": 5
}
